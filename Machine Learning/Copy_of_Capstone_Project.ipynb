{
  "nbformat": 4,
  "nbformat_minor": 0,
  "metadata": {
    "colab": {
      "provenance": []
    },
    "kernelspec": {
      "name": "python3",
      "display_name": "Python 3"
    },
    "language_info": {
      "name": "python"
    }
  },
  "cells": [
    {
      "cell_type": "markdown",
      "source": [
        "#Import Library"
      ],
      "metadata": {
        "id": "HMx6EdTG8tb0"
      }
    },
    {
      "cell_type": "code",
      "source": [
        "import pandas as pd\n",
        "import numpy as np\n",
        "import tensorflow as tf\n",
        "import seaborn as sns\n",
        "import matplotlib.pyplot as plt\n",
        "\n",
        "from sklearn.model_selection import train_test_split\n",
        "from sklearn.pipeline import Pipeline\n",
        "from sklearn.ensemble import RandomForestClassifier, RandomForestRegressor\n",
        "from sklearn.compose import ColumnTransformer\n",
        "from sklearn.preprocessing import LabelEncoder, OneHotEncoder, StandardScaler\n",
        "from sklearn.metrics import classification_report, mean_absolute_error"
      ],
      "metadata": {
        "id": "IJMGwItWlHxr"
      },
      "execution_count": null,
      "outputs": []
    },
    {
      "cell_type": "markdown",
      "source": [
        "#Data"
      ],
      "metadata": {
        "id": "u-tQlrqplvw6"
      }
    },
    {
      "cell_type": "markdown",
      "source": [
        "##Load Data"
      ],
      "metadata": {
        "id": "fZ90Y3kcmCPv"
      }
    },
    {
      "cell_type": "code",
      "source": [
        "data = pd.read_csv(\"https://raw.githubusercontent.com/rncyspoetra/Hematin-App/refs/heads/main/Machine%20Learning/data_pengeluaran_sintetis%20(final).csv")"
      ],
      "metadata": {
        "id": "fRDgxsBClSLS"
      },
      "execution_count": null,
      "outputs": []
    },
    {
      "cell_type": "markdown",
      "source": [
        "##EDA"
      ],
      "metadata": {
        "id": "etCmFXLQwN4E"
      }
    },
    {
      "cell_type": "markdown",
      "source": [
        "###Informasi Dataset"
      ],
      "metadata": {
        "id": "y_QmJa0-4lHl"
      }
    },
    {
      "cell_type": "code",
      "source": [
        "print(\"=== Informasi Dataset ===\")\n",
        "print(data.info())"
      ],
      "metadata": {
        "colab": {
          "base_uri": "https://localhost:8080/"
        },
        "id": "rYDx9B48wNi-",
        "outputId": "29a43288-d94e-49f8-fd4a-ce845a7b8746"
      },
      "execution_count": null,
      "outputs": [
        {
          "output_type": "stream",
          "name": "stdout",
          "text": [
            "=== Informasi Dataset ===\n",
            "<class 'pandas.core.frame.DataFrame'>\n",
            "RangeIndex: 10000 entries, 0 to 9999\n",
            "Data columns (total 11 columns):\n",
            " #   Column                          Non-Null Count  Dtype  \n",
            "---  ------                          --------------  -----  \n",
            " 0   income                          10000 non-null  int64  \n",
            " 1   fixed_expenses                  10000 non-null  int64  \n",
            " 2   weekly_food_spending            10000 non-null  int64  \n",
            " 3   weekly_transport_spending       10000 non-null  int64  \n",
            " 4   subscription_services_count     10000 non-null  int64  \n",
            " 5   employment_status               10000 non-null  object \n",
            " 6   age                             10000 non-null  int64  \n",
            " 7   last_month_spending             10000 non-null  int64  \n",
            " 8   savings_last_month              10000 non-null  int64  \n",
            " 9   next_month_spending_prediction  10000 non-null  float64\n",
            " 10  saving_suggestion               10000 non-null  object \n",
            "dtypes: float64(1), int64(8), object(2)\n",
            "memory usage: 859.5+ KB\n",
            "None\n"
          ]
        }
      ]
    },
    {
      "cell_type": "markdown",
      "source": [
        "###Statistik Deskriptif"
      ],
      "metadata": {
        "id": "Bu4XZyH_4rDv"
      }
    },
    {
      "cell_type": "code",
      "source": [
        "print(\"\\n=== Statistik Deskriptif ===\")\n",
        "print(data.describe())"
      ],
      "metadata": {
        "colab": {
          "base_uri": "https://localhost:8080/"
        },
        "id": "yo0MWk5l37B0",
        "outputId": "43005cc0-ef9c-4349-9a14-cdb4c4740d8e"
      },
      "execution_count": null,
      "outputs": [
        {
          "output_type": "stream",
          "name": "stdout",
          "text": [
            "\n",
            "=== Statistik Deskriptif ===\n",
            "             income  fixed_expenses  weekly_food_spending  \\\n",
            "count  1.000000e+04    1.000000e+04          1.000000e+04   \n",
            "mean   3.097630e+07    9.274326e+06          1.551887e+06   \n",
            "std    1.125461e+07    3.929773e+06          7.767952e+05   \n",
            "min    1.000000e+06    2.000000e+05          1.000000e+05   \n",
            "25%    2.197950e+07    6.265750e+06          8.770000e+05   \n",
            "50%    3.119350e+07    9.018000e+06          1.501000e+06   \n",
            "75%    4.058300e+07    1.200325e+07          2.213000e+06   \n",
            "max    5.000000e+07    2.800000e+07          3.000000e+06   \n",
            "\n",
            "       weekly_transport_spending  subscription_services_count           age  \\\n",
            "count               1.000000e+04                 10000.000000  10000.000000   \n",
            "mean                5.346234e+05                     4.936400     41.308100   \n",
            "std                 2.625938e+05                     3.178296     13.865194   \n",
            "min                 4.000000e+04                     0.000000     18.000000   \n",
            "25%                 3.057500e+05                     2.000000     29.000000   \n",
            "50%                 5.320000e+05                     5.000000     41.000000   \n",
            "75%                 7.592500e+05                     8.000000     53.000000   \n",
            "max                 1.250000e+06                    10.000000     65.000000   \n",
            "\n",
            "       last_month_spending  savings_last_month  next_month_spending_prediction  \n",
            "count         1.000000e+04        1.000000e+04                    1.000000e+04  \n",
            "mean          1.544603e+07        1.552855e+07                    1.870623e+07  \n",
            "std           9.345147e+06        9.993333e+06                    6.153182e+06  \n",
            "min           3.000000e+05        2.340000e+05                    7.290000e+05  \n",
            "25%           7.728000e+06        7.339750e+06                    1.427662e+07  \n",
            "50%           1.352000e+07        1.338600e+07                    1.856641e+07  \n",
            "75%           2.150925e+07        2.200250e+07                    2.287160e+07  \n",
            "max           4.545000e+07        4.631700e+07                    5.780460e+07  \n"
          ]
        }
      ]
    },
    {
      "cell_type": "markdown",
      "source": [
        "###Missing Values"
      ],
      "metadata": {
        "id": "fzZN39K84vb6"
      }
    },
    {
      "cell_type": "code",
      "source": [
        "print(\"\\n=== Cek Missing Values ===\")\n",
        "print(data.isnull().sum())"
      ],
      "metadata": {
        "colab": {
          "base_uri": "https://localhost:8080/"
        },
        "id": "-RsudHhP3-h2",
        "outputId": "5ef55182-e1cc-4076-f113-37b5725ec881"
      },
      "execution_count": null,
      "outputs": [
        {
          "output_type": "stream",
          "name": "stdout",
          "text": [
            "\n",
            "=== Cek Missing Values ===\n",
            "income                            0\n",
            "fixed_expenses                    0\n",
            "weekly_food_spending              0\n",
            "weekly_transport_spending         0\n",
            "subscription_services_count       0\n",
            "employment_status                 0\n",
            "age                               0\n",
            "last_month_spending               0\n",
            "savings_last_month                0\n",
            "next_month_spending_prediction    0\n",
            "saving_suggestion                 0\n",
            "dtype: int64\n"
          ]
        }
      ]
    },
    {
      "cell_type": "markdown",
      "source": [
        "###Distribusi Saran Penghematan"
      ],
      "metadata": {
        "id": "0fOr0jIN4yBE"
      }
    },
    {
      "cell_type": "code",
      "source": [
        "print(\"\\n=== Distribusi Target (Saran Penghematan) ===\")\n",
        "print(data[\"saving_suggestion\"].value_counts())"
      ],
      "metadata": {
        "colab": {
          "base_uri": "https://localhost:8080/"
        },
        "id": "jreE3SI54BDo",
        "outputId": "85ee9a13-a789-48fd-a4ce-2acfc3c39fee"
      },
      "execution_count": null,
      "outputs": [
        {
          "output_type": "stream",
          "name": "stdout",
          "text": [
            "\n",
            "=== Distribusi Target (Saran Penghematan) ===\n",
            "saving_suggestion\n",
            "Kurangi langganan aplikasi jasa yang jarang digunakan.                  4485\n",
            "Sudah cukup hemat, pertahankan kebiasaan menabung.                      3242\n",
            "Kurangi makan di luar, coba masak sendiri di rumah.                     1389\n",
            "Cobalah menggunakan transportasi umum seperti angkot, bus, atau KRL.     884\n",
            "Name: count, dtype: int64\n"
          ]
        }
      ]
    },
    {
      "cell_type": "markdown",
      "source": [
        "###Visualisasi"
      ],
      "metadata": {
        "id": "TCKog4TQ4dwO"
      }
    },
    {
      "cell_type": "code",
      "source": [
        "sns.boxplot(data=data.select_dtypes(include='number'))\n",
        "plt.xticks(rotation=90)\n",
        "plt.title(\"Boxplot Fitur Numerik\")\n",
        "plt.show()"
      ],
      "metadata": {
        "colab": {
          "base_uri": "https://localhost:8080/",
          "height": 668
        },
        "id": "_LDX_sBR4Dio",
        "outputId": "0d96f447-6387-4c43-b885-f72bf4e02beb"
      },
      "execution_count": null,
      "outputs": [
        {
          "output_type": "display_data",
          "data": {
            "text/plain": [
              "<Figure size 640x480 with 1 Axes>"
            ],
            "image/png": "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\n"
          },
          "metadata": {}
        }
      ]
    },
    {
      "cell_type": "markdown",
      "source": [
        "##Fitur dan Target"
      ],
      "metadata": {
        "id": "TpupfihOmHDm"
      }
    },
    {
      "cell_type": "code",
      "source": [
        "X = data.drop(columns=[\"saving_suggestion\", \"next_month_spending_prediction\"])\n",
        "y_class_raw = data[\"saving_suggestion\"]\n",
        "y_reg_raw = data[\"next_month_spending_prediction\"]\n",
        "\n",
        "label_encoder = LabelEncoder()\n",
        "y_class_encoded = label_encoder.fit_transform(y_class_raw)\n",
        "num_classes = len(label_encoder.classes_)"
      ],
      "metadata": {
        "id": "4vfJPoPYlSd7"
      },
      "execution_count": null,
      "outputs": []
    },
    {
      "cell_type": "markdown",
      "source": [
        "##Preprocessing"
      ],
      "metadata": {
        "id": "GsLlKZAMmLiP"
      }
    },
    {
      "cell_type": "code",
      "source": [
        "numerical_cols = X.select_dtypes(include=np.number).columns\n",
        "categorical_cols = X.select_dtypes(include='object').columns\n",
        "\n",
        "preprocessor = ColumnTransformer(\n",
        "    transformers=[\n",
        "        ('num', StandardScaler(), numerical_cols),\n",
        "        ('cat', OneHotEncoder(handle_unknown='ignore'), categorical_cols)\n",
        "    ],\n",
        "    remainder='passthrough'\n",
        ")"
      ],
      "metadata": {
        "id": "CMDTOdD4lSu0"
      },
      "execution_count": null,
      "outputs": []
    },
    {
      "cell_type": "markdown",
      "source": [
        "##Split Data"
      ],
      "metadata": {
        "id": "duyDBIXCmZzb"
      }
    },
    {
      "cell_type": "code",
      "source": [
        "X_train, X_test, y_train_class, y_test_class, y_train_reg, y_test_reg = train_test_split(\n",
        "    X, y_class_encoded, y_reg_raw, test_size=0.2, random_state=42\n",
        ")\n",
        "X_train_processed = preprocessor.fit_transform(X_train)\n",
        "X_test_processed = preprocessor.transform(X_test)"
      ],
      "metadata": {
        "id": "EmBtcu68lTXp"
      },
      "execution_count": null,
      "outputs": []
    },
    {
      "cell_type": "markdown",
      "source": [
        "#Model"
      ],
      "metadata": {
        "id": "ZcFq67YymeUO"
      }
    },
    {
      "cell_type": "markdown",
      "source": [
        "##Model Klasifikasi"
      ],
      "metadata": {
        "id": "UeZhGk-uyTnZ"
      }
    },
    {
      "cell_type": "code",
      "source": [
        "class ManualClassifier:\n",
        "    def __init__(self, input_dim, num_classes, hidden_units=128, dropout_rate=0.3):\n",
        "        self.W1 = tf.Variable(tf.random.normal([input_dim, hidden_units]), name='W1')\n",
        "        self.b1 = tf.Variable(tf.zeros([hidden_units]), name='b1')\n",
        "\n",
        "        self.W2 = tf.Variable(tf.random.normal([hidden_units, hidden_units//2]), name='W2')\n",
        "        self.b2 = tf.Variable(tf.zeros([hidden_units//2]), name='b2')\n",
        "\n",
        "        self.W3 = tf.Variable(tf.random.normal([hidden_units//2, num_classes]), name='W3')\n",
        "        self.b3 = tf.Variable(tf.zeros([num_classes]), name='b3')\n",
        "\n",
        "        self.dropout_rate = dropout_rate\n",
        "\n",
        "    def __call__(self, x, training=False):\n",
        "        x = tf.matmul(x, self.W1) + self.b1\n",
        "        x = tf.nn.relu(x)\n",
        "        if training:\n",
        "            x = tf.nn.dropout(x, rate=self.dropout_rate)\n",
        "\n",
        "        x = tf.matmul(x, self.W2) + self.b2\n",
        "        x = tf.nn.relu(x)\n",
        "\n",
        "        logits = tf.matmul(x, self.W3) + self.b3\n",
        "        return tf.nn.softmax(logits)\n",
        "\n",
        "def compute_loss(y_true, y_pred):\n",
        "    return tf.reduce_mean(tf.keras.losses.sparse_categorical_crossentropy(y_true, y_pred))\n",
        "\n",
        "def compute_accuracy(y_true, y_pred):\n",
        "    pred_labels = tf.argmax(y_pred, axis=1)\n",
        "    return tf.reduce_mean(tf.cast(tf.equal(pred_labels, tf.cast(y_true, tf.int64)), tf.float32))\n",
        "\n",
        "def train(model, X_train, y_train, X_val, y_val, learning_rate=0.001, epochs=20, batch_size=32):\n",
        "    optimizer = tf.optimizers.Adam(learning_rate)\n",
        "    dataset = tf.data.Dataset.from_tensor_slices((X_train, y_train)).shuffle(buffer_size=1024).batch(batch_size)\n",
        "\n",
        "    for epoch in range(epochs):\n",
        "        epoch_loss = 0\n",
        "        for step, (x_batch, y_batch) in enumerate(dataset):\n",
        "            with tf.GradientTape() as tape:\n",
        "                y_pred = model(x_batch, training=True)\n",
        "                loss = compute_loss(y_batch, y_pred)\n",
        "            grads = tape.gradient(loss, [model.W1, model.b1, model.W2, model.b2, model.W3, model.b3])\n",
        "            optimizer.apply_gradients(zip(grads, [model.W1, model.b1, model.W2, model.b2, model.W3, model.b3]))\n",
        "            epoch_loss += loss.numpy()\n",
        "\n",
        "        val_pred = model(X_val, training=False)\n",
        "        val_acc = compute_accuracy(y_val, val_pred).numpy()\n",
        "        print(f\"Epoch {epoch+1}, Loss: {epoch_loss:.4f}, Val Accuracy: {val_acc:.4f}\")"
      ],
      "metadata": {
        "id": "VtJ12KANySiN"
      },
      "execution_count": null,
      "outputs": []
    },
    {
      "cell_type": "code",
      "source": [
        "input_dim = X_train_processed.shape[1]\n",
        "num_classes = len(np.unique(y_train_class))\n",
        "\n",
        "X_train_tensor = tf.convert_to_tensor(X_train_processed, dtype=tf.float32)\n",
        "y_train_tensor = tf.convert_to_tensor(y_train_class, dtype=tf.int32)\n",
        "\n",
        "X_val_tensor = tf.convert_to_tensor(X_test_processed, dtype=tf.float32)\n",
        "y_val_tensor = tf.convert_to_tensor(y_test_class, dtype=tf.int32)\n",
        "\n",
        "model = ManualClassifier(input_dim=input_dim, num_classes=num_classes, hidden_units=128, dropout_rate=0.3)\n",
        "train(model, X_train_tensor, y_train_tensor, X_val_tensor, y_val_tensor, learning_rate=0.001, epochs=20)"
      ],
      "metadata": {
        "colab": {
          "base_uri": "https://localhost:8080/"
        },
        "id": "Bt9OTk1Al2PF",
        "outputId": "cbf3896e-4cc9-40fa-cc8a-bf278260a48c"
      },
      "execution_count": null,
      "outputs": [
        {
          "output_type": "stream",
          "name": "stdout",
          "text": [
            "Epoch 1, Loss: 2807.7422, Val Accuracy: 0.4590\n",
            "Epoch 2, Loss: 1848.4606, Val Accuracy: 0.6780\n",
            "Epoch 3, Loss: 1283.7815, Val Accuracy: 0.7610\n",
            "Epoch 4, Loss: 1055.7306, Val Accuracy: 0.7995\n",
            "Epoch 5, Loss: 918.0034, Val Accuracy: 0.8200\n",
            "Epoch 6, Loss: 821.5695, Val Accuracy: 0.8485\n",
            "Epoch 7, Loss: 763.0161, Val Accuracy: 0.8630\n",
            "Epoch 8, Loss: 681.8666, Val Accuracy: 0.8545\n",
            "Epoch 9, Loss: 638.0079, Val Accuracy: 0.8865\n",
            "Epoch 10, Loss: 602.8248, Val Accuracy: 0.8680\n",
            "Epoch 11, Loss: 548.6051, Val Accuracy: 0.8990\n",
            "Epoch 12, Loss: 539.8568, Val Accuracy: 0.9055\n",
            "Epoch 13, Loss: 530.3829, Val Accuracy: 0.9105\n",
            "Epoch 14, Loss: 530.8067, Val Accuracy: 0.9010\n",
            "Epoch 15, Loss: 496.2108, Val Accuracy: 0.9115\n",
            "Epoch 16, Loss: 455.7621, Val Accuracy: 0.9090\n",
            "Epoch 17, Loss: 473.0777, Val Accuracy: 0.9175\n",
            "Epoch 18, Loss: 437.2973, Val Accuracy: 0.9160\n",
            "Epoch 19, Loss: 433.8286, Val Accuracy: 0.9260\n",
            "Epoch 20, Loss: 421.7498, Val Accuracy: 0.9270\n"
          ]
        }
      ]
    },
    {
      "cell_type": "markdown",
      "source": [
        "##Model Regresi"
      ],
      "metadata": {
        "id": "xm7pSWQ6yXA5"
      }
    },
    {
      "cell_type": "code",
      "source": [
        "class ManualRegressor:\n",
        "    def __init__(self, input_dim, hidden_units=128, dropout_rate=0.3):\n",
        "        self.W1 = tf.Variable(tf.random.normal([input_dim, hidden_units]), name='W1')\n",
        "        self.b1 = tf.Variable(tf.zeros([hidden_units]), name='b1')\n",
        "\n",
        "        self.W2 = tf.Variable(tf.random.normal([hidden_units, hidden_units//2]), name='W2')\n",
        "        self.b2 = tf.Variable(tf.zeros([hidden_units//2]), name='b2')\n",
        "\n",
        "        self.W3 = tf.Variable(tf.random.normal([hidden_units//2, 1]), name='W3')\n",
        "        self.b3 = tf.Variable(tf.zeros([1]), name='b3')\n",
        "\n",
        "        self.dropout_rate = dropout_rate\n",
        "\n",
        "    def __call__(self, x, training=False):\n",
        "        x = tf.matmul(x, self.W1) + self.b1\n",
        "        x = tf.nn.relu(x)\n",
        "        if training:\n",
        "            x = tf.nn.dropout(x, rate=self.dropout_rate)\n",
        "\n",
        "        x = tf.matmul(x, self.W2) + self.b2\n",
        "        x = tf.nn.relu(x)\n",
        "\n",
        "        output = tf.matmul(x, self.W3) + self.b3\n",
        "        return output\n",
        "\n",
        "def compute_regression_loss(y_true, y_pred):\n",
        "    return tf.reduce_mean(tf.abs(y_true - y_pred))  # MAE\n",
        "\n",
        "def train_regression(model, X_train, y_train, X_val, y_val, learning_rate=0.001, epochs=20, batch_size=32):\n",
        "    optimizer = tf.optimizers.Adam(learning_rate)\n",
        "    dataset = tf.data.Dataset.from_tensor_slices((X_train, y_train)).shuffle(buffer_size=1024).batch(batch_size)\n",
        "\n",
        "    for epoch in range(epochs):\n",
        "        epoch_loss = 0\n",
        "        for step, (x_batch, y_batch) in enumerate(dataset):\n",
        "            with tf.GradientTape() as tape:\n",
        "                y_pred = model(x_batch, training=True)\n",
        "                loss = compute_regression_loss(y_batch, y_pred)\n",
        "            grads = tape.gradient(loss, [model.W1, model.b1, model.W2, model.b2, model.W3, model.b3])\n",
        "            optimizer.apply_gradients(zip(grads, [model.W1, model.b1, model.W2, model.b2, model.W3, model.b3]))\n",
        "            epoch_loss += loss.numpy()\n",
        "\n",
        "        val_pred = model(X_val, training=False)\n",
        "        val_mae = compute_regression_loss(y_val, val_pred).numpy()\n",
        "        print(f\"Epoch {epoch+1}, Loss: {epoch_loss:.4f}, Val MAE: {val_mae:.4f}\")"
      ],
      "metadata": {
        "id": "BGD3LgIqyZTM"
      },
      "execution_count": null,
      "outputs": []
    },
    {
      "cell_type": "code",
      "source": [
        "X_train_tensor_reg = tf.convert_to_tensor(X_train_processed, dtype=tf.float32)\n",
        "y_train_tensor_reg = tf.convert_to_tensor(y_train_reg, dtype=tf.float32)\n",
        "\n",
        "X_val_tensor_reg = tf.convert_to_tensor(X_test_processed, dtype=tf.float32)\n",
        "y_val_tensor_reg = tf.convert_to_tensor(y_test_reg, dtype=tf.float32)\n",
        "\n",
        "reg_model = ManualRegressor(input_dim=X_train_processed.shape[1], hidden_units=128, dropout_rate=0.3)\n",
        "train_regression(reg_model, X_train_tensor_reg, y_train_tensor_reg, X_val_tensor_reg, y_val_tensor_reg, learning_rate=0.001, epochs=20)"
      ],
      "metadata": {
        "colab": {
          "base_uri": "https://localhost:8080/"
        },
        "id": "csxnYdSxm8hz",
        "outputId": "82621b29-7cb0-4994-a22e-8646b5b5ec6a"
      },
      "execution_count": null,
      "outputs": [
        {
          "output_type": "stream",
          "name": "stdout",
          "text": [
            "Epoch 1, Loss: 4679446528.0000, Val MAE: 18655124.0000\n",
            "Epoch 2, Loss: 4678242816.0000, Val MAE: 18646318.0000\n",
            "Epoch 3, Loss: 4674394112.0000, Val MAE: 18623138.0000\n",
            "Epoch 4, Loss: 4666036224.0000, Val MAE: 18578862.0000\n",
            "Epoch 5, Loss: 4651721216.0000, Val MAE: 18508608.0000\n",
            "Epoch 6, Loss: 4630533632.0000, Val MAE: 18409286.0000\n",
            "Epoch 7, Loss: 4601512448.0000, Val MAE: 18277212.0000\n",
            "Epoch 8, Loss: 4564246016.0000, Val MAE: 18110326.0000\n",
            "Epoch 9, Loss: 4517234176.0000, Val MAE: 17906198.0000\n",
            "Epoch 10, Loss: 4461189632.0000, Val MAE: 17663792.0000\n",
            "Epoch 11, Loss: 4394713088.0000, Val MAE: 17381770.0000\n",
            "Epoch 12, Loss: 4318865408.0000, Val MAE: 17056970.0000\n",
            "Epoch 13, Loss: 4232464384.0000, Val MAE: 16689763.0000\n",
            "Epoch 14, Loss: 4133922048.0000, Val MAE: 16278555.0000\n",
            "Epoch 15, Loss: 4025194240.0000, Val MAE: 15822512.0000\n",
            "Epoch 16, Loss: 3904677632.0000, Val MAE: 15321010.0000\n",
            "Epoch 17, Loss: 3773974528.0000, Val MAE: 14774235.0000\n",
            "Epoch 18, Loss: 3627648256.0000, Val MAE: 14180105.0000\n",
            "Epoch 19, Loss: 3473288192.0000, Val MAE: 13543581.0000\n",
            "Epoch 20, Loss: 3311625984.0000, Val MAE: 12867860.0000\n"
          ]
        }
      ]
    },
    {
      "cell_type": "markdown",
      "source": [
        "##Evaluasi Model"
      ],
      "metadata": {
        "id": "sTAqHUHq8PJv"
      }
    },
    {
      "cell_type": "code",
      "source": [
        "X_test_tensor_cls = tf.convert_to_tensor(X_test_processed, dtype=tf.float32)\n",
        "y_test_tensor_cls = tf.convert_to_tensor(y_test_class, dtype=tf.int32)\n",
        "\n",
        "y_pred_proba = model(X_test_tensor_cls, training=False)\n",
        "accuracy_cls = compute_accuracy(y_test_tensor_cls, y_pred_proba).numpy()\n",
        "print(f\"Akurasi pada data tes: {accuracy_cls:.2%}\")\n",
        "\n",
        "y_pred_class = tf.argmax(y_pred_proba, axis=1).numpy()\n",
        "print(\"\\nLaporan Klasifikasi Model Terbaik:\")\n",
        "print(classification_report(y_test_class, y_pred_class, target_names=label_encoder.classes_))\n",
        "\n",
        "X_test_tensor_reg = tf.convert_to_tensor(X_test_processed, dtype=tf.float32)\n",
        "y_test_tensor_reg = tf.convert_to_tensor(y_test_reg, dtype=tf.float32)\n",
        "\n",
        "y_pred_reg = reg_model(X_test_tensor_reg, training=False)\n",
        "mae_reg = compute_regression_loss(y_test_tensor_reg, y_pred_reg).numpy()\n",
        "print(f\"Mean Absolute Error (MAE) pada data tes: Rp {mae_reg:,.2f}\")"
      ],
      "metadata": {
        "colab": {
          "base_uri": "https://localhost:8080/"
        },
        "id": "Tb4ySdG3mrtK",
        "outputId": "9e2bc6b8-7799-4afb-a0ec-615325e23af1"
      },
      "execution_count": null,
      "outputs": [
        {
          "output_type": "stream",
          "name": "stdout",
          "text": [
            "Akurasi pada data tes: 92.70%\n",
            "\n",
            "Laporan Klasifikasi Model Terbaik:\n",
            "                                                                      precision    recall  f1-score   support\n",
            "\n",
            "Cobalah menggunakan transportasi umum seperti angkot, bus, atau KRL.       0.85      0.77      0.81       182\n",
            "              Kurangi langganan aplikasi jasa yang jarang digunakan.       0.97      0.98      0.97       925\n",
            "                 Kurangi makan di luar, coba masak sendiri di rumah.       0.79      0.92      0.85       271\n",
            "                  Sudah cukup hemat, pertahankan kebiasaan menabung.       0.96      0.89      0.92       622\n",
            "\n",
            "                                                            accuracy                           0.93      2000\n",
            "                                                           macro avg       0.89      0.89      0.89      2000\n",
            "                                                        weighted avg       0.93      0.93      0.93      2000\n",
            "\n",
            "Mean Absolute Error (MAE) pada data tes: Rp 12,867,860.00\n"
          ]
        }
      ]
    },
    {
      "cell_type": "markdown",
      "source": [
        "#Input Manual"
      ],
      "metadata": {
        "id": "kpk5PlNX8kYc"
      }
    },
    {
      "cell_type": "code",
      "source": [
        "valid_statuses = ['Businessman', 'Freelance', 'Full-time', 'Part-time', 'Contract', 'Student']\n",
        "\n",
        "print(\"\\n=== Masukkan Data Anda untuk Prediksi ===\")\n",
        "income = float(input(\"Pendapatan bulanan (contoh: 8000000): \"))\n",
        "fixed_expenses = float(input(\"Pengeluaran tetap (contoh: 3000000): \"))\n",
        "weekly_food = float(input(\"Pengeluaran makanan mingguan (contoh: 500000): \"))\n",
        "weekly_transport = float(input(\"Pengeluaran transport mingguan (contoh: 250000): \"))\n",
        "subscriptions = int(input(\"Jumlah layanan langganan (contoh: 2): \"))\n",
        "employment_status = input(f\"Status pekerjaan {valid_statuses}: \").strip()\n",
        "while employment_status not in valid_statuses:\n",
        "    print(\"❌ Status tidak valid.\")\n",
        "    employment_status = input(\"Masukkan ulang status pekerjaan: \").strip()\n",
        "age = int(input(\"Usia (contoh: 30): \"))\n",
        "last_month_spending = float(input(\"Pengeluaran bulan lalu (contoh: 6500000): \"))\n",
        "savings_last_month = float(input(\"Tabungan bulan lalu (contoh: 1500000): \"))"
      ],
      "metadata": {
        "colab": {
          "base_uri": "https://localhost:8080/"
        },
        "id": "nSLYVbSgmsCY",
        "outputId": "5a3c1da6-f519-48ef-ed7d-bb3cd0af5528"
      },
      "execution_count": null,
      "outputs": [
        {
          "name": "stdout",
          "output_type": "stream",
          "text": [
            "\n",
            "=== Masukkan Data Anda untuk Prediksi ===\n",
            "Pendapatan bulanan (contoh: 8000000): 10000000\n",
            "Pengeluaran tetap (contoh: 3000000): 5000000\n",
            "Pengeluaran makanan mingguan (contoh: 500000): 700000\n",
            "Pengeluaran transport mingguan (contoh: 250000): 100000\n",
            "Jumlah layanan langganan (contoh: 2): 3\n",
            "Status pekerjaan ['Businessman', 'Freelance', 'Full-time', 'Part-time', 'Contract', 'Student']: Full-time\n",
            "Usia (contoh: 30): 28\n",
            "Pengeluaran bulan lalu (contoh: 6500000): 7800000\n",
            "Tabungan bulan lalu (contoh: 1500000): 2200000\n"
          ]
        }
      ]
    },
    {
      "cell_type": "markdown",
      "source": [
        "#Dataframe Input"
      ],
      "metadata": {
        "id": "3J4R_78uBv79"
      }
    },
    {
      "cell_type": "code",
      "source": [
        "user_input_data = pd.DataFrame([{\n",
        "    \"income\": income,\n",
        "    \"fixed_expenses\": fixed_expenses,\n",
        "    \"weekly_food_spending\": weekly_food,\n",
        "    \"weekly_transport_spending\": weekly_transport,\n",
        "    \"subscription_services_count\": subscriptions,\n",
        "    \"employment_status\": employment_status,\n",
        "    \"age\": age,\n",
        "    \"last_month_spending\": last_month_spending,\n",
        "    \"savings_last_month\": savings_last_month\n",
        "}])"
      ],
      "metadata": {
        "id": "f5BYviTNB4xl"
      },
      "execution_count": null,
      "outputs": []
    },
    {
      "cell_type": "markdown",
      "source": [
        "#Inference"
      ],
      "metadata": {
        "id": "5Czo_zhiCgZf"
      }
    },
    {
      "cell_type": "code",
      "source": [
        "user_input_tensor = tf.convert_to_tensor(user_input_processed, dtype=tf.float32)\n",
        "\n",
        "suggestion_prediction_proba = model(user_input_tensor, training=False).numpy()\n",
        "suggestion_prediction_index = np.argmax(suggestion_prediction_proba, axis=1)[0]\n",
        "suggestion = label_encoder.inverse_transform([suggestion_prediction_index])[0]\n",
        "\n",
        "spending_prediction_tensor = reg_model(user_input_tensor, training=False).numpy()\n",
        "spending_prediction = spending_prediction_tensor[0][0]"
      ],
      "metadata": {
        "id": "QK63ARa9CiQq"
      },
      "execution_count": null,
      "outputs": []
    },
    {
      "cell_type": "markdown",
      "source": [
        "#Output"
      ],
      "metadata": {
        "id": "gRzhScezCih4"
      }
    },
    {
      "cell_type": "code",
      "source": [
        "print(\"\\n📊 HASIL PREDIKSI\")\n",
        "print(f\"💰 Prediksi Pengeluaran Bulan Depan: Rp {spending_prediction:,.0f}\")\n",
        "print(f\"💡 Saran Penghematan: {suggestion}\")"
      ],
      "metadata": {
        "colab": {
          "base_uri": "https://localhost:8080/"
        },
        "id": "RvsqNvC5Cj6q",
        "outputId": "9fce23f7-a2b7-4d6b-baef-c1a0904d38ad"
      },
      "execution_count": null,
      "outputs": [
        {
          "output_type": "stream",
          "name": "stdout",
          "text": [
            "\n",
            "📊 HASIL PREDIKSI\n",
            "💰 Prediksi Pengeluaran Bulan Depan: Rp 8,021,650\n",
            "💡 Saran Penghematan: Sudah cukup hemat, pertahankan kebiasaan menabung.\n"
          ]
        }
      ]
    }
  ]
}
