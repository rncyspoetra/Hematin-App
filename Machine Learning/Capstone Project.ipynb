{
  "nbformat": 4,
  "nbformat_minor": 0,
  "metadata": {
    "colab": {
      "provenance": []
    },
    "kernelspec": {
      "name": "python3",
      "display_name": "Python 3"
    },
    "language_info": {
      "name": "python"
    }
  },
  "cells": [
    {
      "cell_type": "code",
      "source": [
        "!pip install keras_tuner"
      ],
      "metadata": {
        "colab": {
          "base_uri": "https://localhost:8080/"
        },
        "id": "-fyiajlCLJ1a",
        "outputId": "452e48dc-39ff-4a6d-b416-9121e0060d5f"
      },
      "execution_count": null,
      "outputs": [
        {
          "output_type": "stream",
          "name": "stdout",
          "text": [
            "Collecting keras_tuner\n",
            "  Downloading keras_tuner-1.4.7-py3-none-any.whl.metadata (5.4 kB)\n",
            "Requirement already satisfied: keras in /usr/local/lib/python3.11/dist-packages (from keras_tuner) (3.8.0)\n",
            "Requirement already satisfied: packaging in /usr/local/lib/python3.11/dist-packages (from keras_tuner) (24.2)\n",
            "Requirement already satisfied: requests in /usr/local/lib/python3.11/dist-packages (from keras_tuner) (2.32.3)\n",
            "Collecting kt-legacy (from keras_tuner)\n",
            "  Downloading kt_legacy-1.0.5-py3-none-any.whl.metadata (221 bytes)\n",
            "Requirement already satisfied: absl-py in /usr/local/lib/python3.11/dist-packages (from keras->keras_tuner) (1.4.0)\n",
            "Requirement already satisfied: numpy in /usr/local/lib/python3.11/dist-packages (from keras->keras_tuner) (2.0.2)\n",
            "Requirement already satisfied: rich in /usr/local/lib/python3.11/dist-packages (from keras->keras_tuner) (13.9.4)\n",
            "Requirement already satisfied: namex in /usr/local/lib/python3.11/dist-packages (from keras->keras_tuner) (0.1.0)\n",
            "Requirement already satisfied: h5py in /usr/local/lib/python3.11/dist-packages (from keras->keras_tuner) (3.13.0)\n",
            "Requirement already satisfied: optree in /usr/local/lib/python3.11/dist-packages (from keras->keras_tuner) (0.16.0)\n",
            "Requirement already satisfied: ml-dtypes in /usr/local/lib/python3.11/dist-packages (from keras->keras_tuner) (0.4.1)\n",
            "Requirement already satisfied: charset-normalizer<4,>=2 in /usr/local/lib/python3.11/dist-packages (from requests->keras_tuner) (3.4.2)\n",
            "Requirement already satisfied: idna<4,>=2.5 in /usr/local/lib/python3.11/dist-packages (from requests->keras_tuner) (3.10)\n",
            "Requirement already satisfied: urllib3<3,>=1.21.1 in /usr/local/lib/python3.11/dist-packages (from requests->keras_tuner) (2.4.0)\n",
            "Requirement already satisfied: certifi>=2017.4.17 in /usr/local/lib/python3.11/dist-packages (from requests->keras_tuner) (2025.4.26)\n",
            "Requirement already satisfied: typing-extensions>=4.6.0 in /usr/local/lib/python3.11/dist-packages (from optree->keras->keras_tuner) (4.14.0)\n",
            "Requirement already satisfied: markdown-it-py>=2.2.0 in /usr/local/lib/python3.11/dist-packages (from rich->keras->keras_tuner) (3.0.0)\n",
            "Requirement already satisfied: pygments<3.0.0,>=2.13.0 in /usr/local/lib/python3.11/dist-packages (from rich->keras->keras_tuner) (2.19.1)\n",
            "Requirement already satisfied: mdurl~=0.1 in /usr/local/lib/python3.11/dist-packages (from markdown-it-py>=2.2.0->rich->keras->keras_tuner) (0.1.2)\n",
            "Downloading keras_tuner-1.4.7-py3-none-any.whl (129 kB)\n",
            "\u001b[2K   \u001b[90m━━━━━━━━━━━━━━━━━━━━━━━━━━━━━━━━━━━━━━━━\u001b[0m \u001b[32m129.1/129.1 kB\u001b[0m \u001b[31m2.5 MB/s\u001b[0m eta \u001b[36m0:00:00\u001b[0m\n",
            "\u001b[?25hDownloading kt_legacy-1.0.5-py3-none-any.whl (9.6 kB)\n",
            "Installing collected packages: kt-legacy, keras_tuner\n",
            "Successfully installed keras_tuner-1.4.7 kt-legacy-1.0.5\n"
          ]
        }
      ]
    },
    {
      "cell_type": "markdown",
      "source": [
        "#Import Library"
      ],
      "metadata": {
        "id": "HMx6EdTG8tb0"
      }
    },
    {
      "cell_type": "code",
      "source": [
        "import pandas as pd\n",
        "import numpy as np\n",
        "import tensorflow as tf\n",
        "from tensorflow import keras\n",
        "from tensorflow.keras import layers\n",
        "import keras_tuner as kt\n",
        "import seaborn as sns\n",
        "import matplotlib.pyplot as plt\n",
        "\n",
        "from sklearn.model_selection import train_test_split\n",
        "from sklearn.pipeline import Pipeline\n",
        "from sklearn.ensemble import RandomForestClassifier, RandomForestRegressor\n",
        "from sklearn.compose import ColumnTransformer\n",
        "from sklearn.preprocessing import LabelEncoder, OneHotEncoder, StandardScaler\n",
        "from sklearn.metrics import classification_report, mean_absolute_error"
      ],
      "metadata": {
        "id": "IJMGwItWlHxr"
      },
      "execution_count": null,
      "outputs": []
    },
    {
      "cell_type": "markdown",
      "source": [
        "#Data"
      ],
      "metadata": {
        "id": "u-tQlrqplvw6"
      }
    },
    {
      "cell_type": "markdown",
      "source": [
        "##Load Data"
      ],
      "metadata": {
        "id": "fZ90Y3kcmCPv"
      }
    },
    {
      "cell_type": "code",
      "source": [
        "data = pd.read_csv(\"https://raw.githubusercontent.com/rncyspoetra/Hematin-App/refs/heads/main/Machine%20Learning/data_pengeluaran_sintetis%20(final).csv\")"
      ],
      "metadata": {
        "id": "fRDgxsBClSLS"
      },
      "execution_count": null,
      "outputs": []
    },
    {
      "cell_type": "markdown",
      "source": [
        "##EDA"
      ],
      "metadata": {
        "id": "etCmFXLQwN4E"
      }
    },
    {
      "cell_type": "markdown",
      "source": [
        "###Informasi Dataset"
      ],
      "metadata": {
        "id": "y_QmJa0-4lHl"
      }
    },
    {
      "cell_type": "code",
      "source": [
        "print(\"=== Informasi Dataset ===\")\n",
        "print(data.info())"
      ],
      "metadata": {
        "colab": {
          "base_uri": "https://localhost:8080/"
        },
        "id": "rYDx9B48wNi-",
        "outputId": "293e67dd-3d08-4240-b6b1-690ed67df097"
      },
      "execution_count": null,
      "outputs": [
        {
          "output_type": "stream",
          "name": "stdout",
          "text": [
            "=== Informasi Dataset ===\n",
            "<class 'pandas.core.frame.DataFrame'>\n",
            "RangeIndex: 10000 entries, 0 to 9999\n",
            "Data columns (total 11 columns):\n",
            " #   Column                          Non-Null Count  Dtype  \n",
            "---  ------                          --------------  -----  \n",
            " 0   income                          10000 non-null  int64  \n",
            " 1   fixed_expenses                  10000 non-null  int64  \n",
            " 2   weekly_food_spending            10000 non-null  int64  \n",
            " 3   weekly_transport_spending       10000 non-null  int64  \n",
            " 4   subscription_services_count     10000 non-null  int64  \n",
            " 5   employment_status               10000 non-null  object \n",
            " 6   age                             10000 non-null  int64  \n",
            " 7   last_month_spending             10000 non-null  int64  \n",
            " 8   savings_last_month              10000 non-null  int64  \n",
            " 9   next_month_spending_prediction  10000 non-null  float64\n",
            " 10  saving_suggestion               10000 non-null  object \n",
            "dtypes: float64(1), int64(8), object(2)\n",
            "memory usage: 859.5+ KB\n",
            "None\n"
          ]
        }
      ]
    },
    {
      "cell_type": "markdown",
      "source": [
        "###Statistik Deskriptif"
      ],
      "metadata": {
        "id": "Bu4XZyH_4rDv"
      }
    },
    {
      "cell_type": "code",
      "source": [
        "print(\"\\n=== Statistik Deskriptif ===\")\n",
        "print(data.describe())"
      ],
      "metadata": {
        "colab": {
          "base_uri": "https://localhost:8080/"
        },
        "id": "yo0MWk5l37B0",
        "outputId": "c7a6c5d3-87f1-4ade-dc81-f54dfc9326bd"
      },
      "execution_count": null,
      "outputs": [
        {
          "output_type": "stream",
          "name": "stdout",
          "text": [
            "\n",
            "=== Statistik Deskriptif ===\n",
            "             income  fixed_expenses  weekly_food_spending  \\\n",
            "count  1.000000e+04    1.000000e+04          1.000000e+04   \n",
            "mean   3.097630e+07    9.274326e+06          1.551887e+06   \n",
            "std    1.125461e+07    3.929773e+06          7.767952e+05   \n",
            "min    1.000000e+06    2.000000e+05          1.000000e+05   \n",
            "25%    2.197950e+07    6.265750e+06          8.770000e+05   \n",
            "50%    3.119350e+07    9.018000e+06          1.501000e+06   \n",
            "75%    4.058300e+07    1.200325e+07          2.213000e+06   \n",
            "max    5.000000e+07    2.800000e+07          3.000000e+06   \n",
            "\n",
            "       weekly_transport_spending  subscription_services_count           age  \\\n",
            "count               1.000000e+04                 10000.000000  10000.000000   \n",
            "mean                5.346234e+05                     4.936400     41.308100   \n",
            "std                 2.625938e+05                     3.178296     13.865194   \n",
            "min                 4.000000e+04                     0.000000     18.000000   \n",
            "25%                 3.057500e+05                     2.000000     29.000000   \n",
            "50%                 5.320000e+05                     5.000000     41.000000   \n",
            "75%                 7.592500e+05                     8.000000     53.000000   \n",
            "max                 1.250000e+06                    10.000000     65.000000   \n",
            "\n",
            "       last_month_spending  savings_last_month  next_month_spending_prediction  \n",
            "count         1.000000e+04        1.000000e+04                    1.000000e+04  \n",
            "mean          1.544603e+07        1.552855e+07                    1.870623e+07  \n",
            "std           9.345147e+06        9.993333e+06                    6.153182e+06  \n",
            "min           3.000000e+05        2.340000e+05                    7.290000e+05  \n",
            "25%           7.728000e+06        7.339750e+06                    1.427662e+07  \n",
            "50%           1.352000e+07        1.338600e+07                    1.856641e+07  \n",
            "75%           2.150925e+07        2.200250e+07                    2.287160e+07  \n",
            "max           4.545000e+07        4.631700e+07                    5.780460e+07  \n"
          ]
        }
      ]
    },
    {
      "cell_type": "markdown",
      "source": [
        "###Missing Values"
      ],
      "metadata": {
        "id": "fzZN39K84vb6"
      }
    },
    {
      "cell_type": "code",
      "source": [
        "print(\"\\n=== Cek Missing Values ===\")\n",
        "print(data.isnull().sum())"
      ],
      "metadata": {
        "colab": {
          "base_uri": "https://localhost:8080/"
        },
        "id": "-RsudHhP3-h2",
        "outputId": "59f0347b-f2b3-419f-cf01-3cbecea3c26d"
      },
      "execution_count": null,
      "outputs": [
        {
          "output_type": "stream",
          "name": "stdout",
          "text": [
            "\n",
            "=== Cek Missing Values ===\n",
            "income                            0\n",
            "fixed_expenses                    0\n",
            "weekly_food_spending              0\n",
            "weekly_transport_spending         0\n",
            "subscription_services_count       0\n",
            "employment_status                 0\n",
            "age                               0\n",
            "last_month_spending               0\n",
            "savings_last_month                0\n",
            "next_month_spending_prediction    0\n",
            "saving_suggestion                 0\n",
            "dtype: int64\n"
          ]
        }
      ]
    },
    {
      "cell_type": "markdown",
      "source": [
        "###Distribusi Saran Penghematan"
      ],
      "metadata": {
        "id": "0fOr0jIN4yBE"
      }
    },
    {
      "cell_type": "code",
      "source": [
        "print(\"\\n=== Distribusi Target (Saran Penghematan) ===\")\n",
        "print(data[\"saving_suggestion\"].value_counts())"
      ],
      "metadata": {
        "colab": {
          "base_uri": "https://localhost:8080/"
        },
        "id": "jreE3SI54BDo",
        "outputId": "a84ca434-d888-4fca-a011-c921565fa710"
      },
      "execution_count": null,
      "outputs": [
        {
          "output_type": "stream",
          "name": "stdout",
          "text": [
            "\n",
            "=== Distribusi Target (Saran Penghematan) ===\n",
            "saving_suggestion\n",
            "Kurangi langganan aplikasi jasa yang jarang digunakan.                  4485\n",
            "Sudah cukup hemat, pertahankan kebiasaan menabung.                      3242\n",
            "Kurangi makan di luar, coba masak sendiri di rumah.                     1389\n",
            "Cobalah menggunakan transportasi umum seperti angkot, bus, atau KRL.     884\n",
            "Name: count, dtype: int64\n"
          ]
        }
      ]
    },
    {
      "cell_type": "markdown",
      "source": [
        "###Visualisasi"
      ],
      "metadata": {
        "id": "TCKog4TQ4dwO"
      }
    },
    {
      "cell_type": "code",
      "source": [
        "sns.boxplot(data=data.select_dtypes(include='number'))\n",
        "plt.xticks(rotation=90)\n",
        "plt.title(\"Boxplot Fitur Numerik\")\n",
        "plt.show()"
      ],
      "metadata": {
        "colab": {
          "base_uri": "https://localhost:8080/",
          "height": 668
        },
        "id": "_LDX_sBR4Dio",
        "outputId": "bb967e8c-1958-4908-e87a-0c837b392419"
      },
      "execution_count": null,
      "outputs": [
        {
          "output_type": "display_data",
          "data": {
            "text/plain": [
              "<Figure size 640x480 with 1 Axes>"
            ],
            "image/png": "[encoded data removed]"
          },
          "metadata": {}
        }
      ]
    },
    {
      "cell_type": "markdown",
      "source": [
        "##Fitur dan Target"
      ],
      "metadata": {
        "id": "TpupfihOmHDm"
      }
    },
    {
      "cell_type": "code",
      "source": [
        "X = data.drop(columns=[\"saving_suggestion\", \"next_month_spending_prediction\"])\n",
        "y_class_raw = data[\"saving_suggestion\"]\n",
        "y_reg_raw = data[\"next_month_spending_prediction\"]\n",
        "\n",
        "label_encoder = LabelEncoder()\n",
        "y_class_encoded = label_encoder.fit_transform(y_class_raw)\n",
        "num_classes = len(label_encoder.classes_)"
      ],
      "metadata": {
        "id": "4vfJPoPYlSd7"
      },
      "execution_count": null,
      "outputs": []
    },
    {
      "cell_type": "markdown",
      "source": [
        "##Preprocessing"
      ],
      "metadata": {
        "id": "GsLlKZAMmLiP"
      }
    },
    {
      "cell_type": "code",
      "source": [
        "numerical_cols = X.select_dtypes(include=np.number).columns\n",
        "categorical_cols = X.select_dtypes(include='object').columns\n",
        "\n",
        "preprocessor = ColumnTransformer(\n",
        "    transformers=[\n",
        "        ('num', StandardScaler(), numerical_cols),\n",
        "        ('cat', OneHotEncoder(handle_unknown='ignore'), categorical_cols)\n",
        "    ],\n",
        "    remainder='passthrough'\n",
        ")"
      ],
      "metadata": {
        "id": "CMDTOdD4lSu0"
      },
      "execution_count": null,
      "outputs": []
    },
    {
      "cell_type": "markdown",
      "source": [
        "##Split Data"
      ],
      "metadata": {
        "id": "duyDBIXCmZzb"
      }
    },
    {
      "cell_type": "code",
      "source": [
        "X_train, X_test, y_train_class, y_test_class, y_train_reg, y_test_reg = train_test_split(\n",
        "    X, y_class_encoded, y_reg_raw, test_size=0.2, random_state=42\n",
        ")\n",
        "X_train_processed = preprocessor.fit_transform(X_train)\n",
        "X_test_processed = preprocessor.transform(X_test)"
      ],
      "metadata": {
        "id": "EmBtcu68lTXp"
      },
      "execution_count": null,
      "outputs": []
    },
    {
      "cell_type": "markdown",
      "source": [
        "#Model"
      ],
      "metadata": {
        "id": "ZcFq67YymeUO"
      }
    },
    {
      "cell_type": "markdown",
      "source": [
        "##Model Klasifikasi"
      ],
      "metadata": {
        "id": "UeZhGk-uyTnZ"
      }
    },
    {
      "cell_type": "code",
      "source": [
        "def build_classification_model(hp):\n",
        "    model = keras.Sequential()\n",
        "    model.add(layers.Input(shape=(X_train_processed.shape[1],)))\n",
        "    hp_units_1 = hp.Int('cls_units_1', min_value=64, max_value=256, step=64)\n",
        "    hp_dropout = hp.Float('cls_dropout', min_value=0.2, max_value=0.5, step=0.1)\n",
        "    hp_learning_rate = hp.Choice('cls_learning_rate', values=[1e-2, 1e-3])\n",
        "    model.add(layers.Dense(units=hp_units_1, activation='relu'))\n",
        "    model.add(layers.Dropout(rate=hp_dropout))\n",
        "    model.add(layers.Dense(units=hp_units_1 // 2, activation='relu'))\n",
        "    model.add(layers.Dense(num_classes, activation='softmax'))\n",
        "    model.compile(optimizer=keras.optimizers.Adam(learning_rate=hp_learning_rate), loss='sparse_categorical_crossentropy', metrics=['accuracy'])\n",
        "    return model"
      ],
      "metadata": {
        "id": "VtJ12KANySiN"
      },
      "execution_count": null,
      "outputs": []
    },
    {
      "cell_type": "markdown",
      "source": [
        "##Model Regresi"
      ],
      "metadata": {
        "id": "xm7pSWQ6yXA5"
      }
    },
    {
      "cell_type": "code",
      "source": [
        "def build_regression_model(hp):\n",
        "    model = keras.Sequential()\n",
        "    model.add(layers.Input(shape=(X_train_processed.shape[1],)))\n",
        "    hp_units_1 = hp.Int('reg_units_1', min_value=64, max_value=256, step=64)\n",
        "    hp_dropout = hp.Float('reg_dropout', min_value=0.2, max_value=0.5, step=0.1)\n",
        "    hp_learning_rate = hp.Choice('reg_learning_rate', values=[1e-2, 1e-3])\n",
        "    model.add(layers.Dense(units=hp_units_1, activation='relu'))\n",
        "    model.add(layers.Dropout(rate=hp_dropout))\n",
        "    model.add(layers.Dense(units=hp_units_1 // 2, activation='relu'))\n",
        "    model.add(layers.Dense(1))\n",
        "    model.compile(optimizer=keras.optimizers.Adam(learning_rate=hp_learning_rate), loss='mean_absolute_error', metrics=['mae'])\n",
        "    return model"
      ],
      "metadata": {
        "id": "BGD3LgIqyZTM"
      },
      "execution_count": null,
      "outputs": []
    },
    {
      "cell_type": "markdown",
      "source": [
        "##Tuning Klasifikasi"
      ],
      "metadata": {
        "id": "eNQMAwj1ykZm"
      }
    },
    {
      "cell_type": "code",
      "source": [
        "stop_early = tf.keras.callbacks.EarlyStopping(monitor='val_loss', patience=5)\n",
        "\n",
        "tuner_cls = kt.Hyperband(\n",
        "    hypermodel=build_classification_model,\n",
        "    objective='val_accuracy',\n",
        "    max_epochs=15,\n",
        "    factor=3,\n",
        "    directory='keras_tuner_dir',\n",
        "    project_name='finance_classification',\n",
        "    overwrite=True\n",
        ")\n",
        "tuner_cls.search(X_train_processed, y_train_class, epochs=15, validation_data=(X_test_processed, y_test_class), callbacks=[stop_early])\n",
        "best_hps_cls = tuner_cls.get_best_hyperparameters(num_trials=1)[0]\n",
        "tuned_classifier = tuner_cls.hypermodel.build(best_hps_cls)\n",
        "tuned_classifier.fit(X_train_processed, y_train_class, epochs=15, validation_data=(X_test_processed, y_test_class), callbacks=[stop_early], verbose=0)"
      ],
      "metadata": {
        "colab": {
          "base_uri": "https://localhost:8080/"
        },
        "id": "s5wOKRO5ymBQ",
        "outputId": "0fc56751-489a-477b-c27e-8565b440bf13"
      },
      "execution_count": null,
      "outputs": [
        {
          "output_type": "stream",
          "name": "stdout",
          "text": [
            "Trial 30 Complete [00h 00m 19s]\n",
            "val_accuracy: 0.987500011920929\n",
            "\n",
            "Best val_accuracy So Far: 0.9879999756813049\n",
            "Total elapsed time: 00h 04m 13s\n"
          ]
        },
        {
          "output_type": "execute_result",
          "data": {
            "text/plain": [
              "<keras.src.callbacks.history.History at 0x78e7eb9dd610>"
            ]
          },
          "metadata": {},
          "execution_count": 15
        }
      ]
    },
    {
      "cell_type": "markdown",
      "source": [
        "##Tuning Regresi"
      ],
      "metadata": {
        "id": "gZAOdGKEyygG"
      }
    },
    {
      "cell_type": "code",
      "source": [
        "tuner_reg = kt.Hyperband(\n",
        "    hypermodel=build_regression_model,\n",
        "    objective=kt.Objective('val_mae', direction='min'),\n",
        "    max_epochs=15,\n",
        "    factor=3,\n",
        "    directory='keras_tuner_dir',\n",
        "    project_name='finance_regression',\n",
        "    overwrite=True\n",
        ")\n",
        "tuner_reg.search(X_train_processed, y_train_reg, epochs=15, validation_data=(X_test_processed, y_test_reg), callbacks=[stop_early])\n",
        "best_hps_reg = tuner_reg.get_best_hyperparameters(num_trials=1)[0]\n",
        "tuned_regressor = tuner_reg.hypermodel.build(best_hps_reg)\n",
        "tuned_regressor.fit(X_train_processed, y_train_reg, epochs=15, validation_data=(X_test_processed, y_test_reg), callbacks=[stop_early], verbose=0)"
      ],
      "metadata": {
        "colab": {
          "base_uri": "https://localhost:8080/"
        },
        "id": "LYLgzSGWy02B",
        "outputId": "83c4c484-b4dd-4d34-db57-b03fc6260f3e"
      },
      "execution_count": null,
      "outputs": [
        {
          "output_type": "stream",
          "name": "stdout",
          "text": [
            "Trial 30 Complete [00h 00m 21s]\n",
            "val_mae: 18038800.0\n",
            "\n",
            "Best val_mae So Far: 932070.1875\n",
            "Total elapsed time: 00h 04m 59s\n"
          ]
        },
        {
          "output_type": "execute_result",
          "data": {
            "text/plain": [
              "<keras.src.callbacks.history.History at 0x78e7e3da0e90>"
            ]
          },
          "metadata": {},
          "execution_count": 16
        }
      ]
    },
    {
      "cell_type": "markdown",
      "source": [
        "##Training Model Klasifikasi"
      ],
      "metadata": {
        "id": "648mNji-TO4x"
      }
    },
    {
      "cell_type": "code",
      "source": [
        "cls_model = build_classification_model(best_hps_cls)\n",
        "cls_model.compile(optimizer='adam', loss='sparse_categorical_crossentropy', metrics=['accuracy'])\n",
        "cls_model.fit(X_train_processed, y_train_class, epochs=20, validation_split=0.2)\n",
        "cls_model.save(\"model_klasifikasi.h5\")\n",
        "cls_model.save(\"model_klasifikasi.keras\")"
      ],
      "metadata": {
        "colab": {
          "base_uri": "https://localhost:8080/"
        },
        "id": "96-hoePHTL1I",
        "outputId": "76816be4-6f7c-475f-9e79-9fccd30a37da"
      },
      "execution_count": null,
      "outputs": [
        {
          "output_type": "stream",
          "name": "stdout",
          "text": [
            "Epoch 1/20\n",
            "\u001b[1m200/200\u001b[0m \u001b[32m━━━━━━━━━━━━━━━━━━━━\u001b[0m\u001b[37m\u001b[0m \u001b[1m5s\u001b[0m 6ms/step - accuracy: 0.7352 - loss: 0.6871 - val_accuracy: 0.9450 - val_loss: 0.1685\n",
            "Epoch 2/20\n",
            "\u001b[1m200/200\u001b[0m \u001b[32m━━━━━━━━━━━━━━━━━━━━\u001b[0m\u001b[37m\u001b[0m \u001b[1m2s\u001b[0m 3ms/step - accuracy: 0.9321 - loss: 0.1757 - val_accuracy: 0.9625 - val_loss: 0.1161\n",
            "Epoch 3/20\n",
            "\u001b[1m200/200\u001b[0m \u001b[32m━━━━━━━━━━━━━━━━━━━━\u001b[0m\u001b[37m\u001b[0m \u001b[1m1s\u001b[0m 3ms/step - accuracy: 0.9543 - loss: 0.1239 - val_accuracy: 0.9594 - val_loss: 0.0982\n",
            "Epoch 4/20\n",
            "\u001b[1m200/200\u001b[0m \u001b[32m━━━━━━━━━━━━━━━━━━━━\u001b[0m\u001b[37m\u001b[0m \u001b[1m1s\u001b[0m 3ms/step - accuracy: 0.9629 - loss: 0.1029 - val_accuracy: 0.9737 - val_loss: 0.0705\n",
            "Epoch 5/20\n",
            "\u001b[1m200/200\u001b[0m \u001b[32m━━━━━━━━━━━━━━━━━━━━\u001b[0m\u001b[37m\u001b[0m \u001b[1m1s\u001b[0m 3ms/step - accuracy: 0.9652 - loss: 0.0911 - val_accuracy: 0.9794 - val_loss: 0.0597\n",
            "Epoch 6/20\n",
            "\u001b[1m200/200\u001b[0m \u001b[32m━━━━━━━━━━━━━━━━━━━━\u001b[0m\u001b[37m\u001b[0m \u001b[1m1s\u001b[0m 3ms/step - accuracy: 0.9716 - loss: 0.0761 - val_accuracy: 0.9794 - val_loss: 0.0527\n",
            "Epoch 7/20\n",
            "\u001b[1m200/200\u001b[0m \u001b[32m━━━━━━━━━━━━━━━━━━━━\u001b[0m\u001b[37m\u001b[0m \u001b[1m1s\u001b[0m 3ms/step - accuracy: 0.9724 - loss: 0.0659 - val_accuracy: 0.9831 - val_loss: 0.0475\n",
            "Epoch 8/20\n",
            "\u001b[1m200/200\u001b[0m \u001b[32m━━━━━━━━━━━━━━━━━━━━\u001b[0m\u001b[37m\u001b[0m \u001b[1m1s\u001b[0m 3ms/step - accuracy: 0.9729 - loss: 0.0625 - val_accuracy: 0.9825 - val_loss: 0.0418\n",
            "Epoch 9/20\n",
            "\u001b[1m200/200\u001b[0m \u001b[32m━━━━━━━━━━━━━━━━━━━━\u001b[0m\u001b[37m\u001b[0m \u001b[1m1s\u001b[0m 3ms/step - accuracy: 0.9825 - loss: 0.0512 - val_accuracy: 0.9825 - val_loss: 0.0449\n",
            "Epoch 10/20\n",
            "\u001b[1m200/200\u001b[0m \u001b[32m━━━━━━━━━━━━━━━━━━━━\u001b[0m\u001b[37m\u001b[0m \u001b[1m1s\u001b[0m 3ms/step - accuracy: 0.9791 - loss: 0.0518 - val_accuracy: 0.9794 - val_loss: 0.0440\n",
            "Epoch 11/20\n",
            "\u001b[1m200/200\u001b[0m \u001b[32m━━━━━━━━━━━━━━━━━━━━\u001b[0m\u001b[37m\u001b[0m \u001b[1m2s\u001b[0m 4ms/step - accuracy: 0.9830 - loss: 0.0472 - val_accuracy: 0.9850 - val_loss: 0.0386\n",
            "Epoch 12/20\n",
            "\u001b[1m200/200\u001b[0m \u001b[32m━━━━━━━━━━━━━━━━━━━━\u001b[0m\u001b[37m\u001b[0m \u001b[1m1s\u001b[0m 3ms/step - accuracy: 0.9863 - loss: 0.0390 - val_accuracy: 0.9881 - val_loss: 0.0344\n",
            "Epoch 13/20\n",
            "\u001b[1m200/200\u001b[0m \u001b[32m━━━━━━━━━━━━━━━━━━━━\u001b[0m\u001b[37m\u001b[0m \u001b[1m1s\u001b[0m 3ms/step - accuracy: 0.9814 - loss: 0.0461 - val_accuracy: 0.9750 - val_loss: 0.0584\n",
            "Epoch 14/20\n",
            "\u001b[1m200/200\u001b[0m \u001b[32m━━━━━━━━━━━━━━━━━━━━\u001b[0m\u001b[37m\u001b[0m \u001b[1m1s\u001b[0m 3ms/step - accuracy: 0.9811 - loss: 0.0447 - val_accuracy: 0.9906 - val_loss: 0.0311\n",
            "Epoch 15/20\n",
            "\u001b[1m200/200\u001b[0m \u001b[32m━━━━━━━━━━━━━━━━━━━━\u001b[0m\u001b[37m\u001b[0m \u001b[1m1s\u001b[0m 3ms/step - accuracy: 0.9860 - loss: 0.0339 - val_accuracy: 0.9856 - val_loss: 0.0339\n",
            "Epoch 16/20\n",
            "\u001b[1m200/200\u001b[0m \u001b[32m━━━━━━━━━━━━━━━━━━━━\u001b[0m\u001b[37m\u001b[0m \u001b[1m1s\u001b[0m 3ms/step - accuracy: 0.9879 - loss: 0.0324 - val_accuracy: 0.9894 - val_loss: 0.0308\n",
            "Epoch 17/20\n",
            "\u001b[1m200/200\u001b[0m \u001b[32m━━━━━━━━━━━━━━━━━━━━\u001b[0m\u001b[37m\u001b[0m \u001b[1m1s\u001b[0m 3ms/step - accuracy: 0.9864 - loss: 0.0304 - val_accuracy: 0.9787 - val_loss: 0.0475\n",
            "Epoch 18/20\n",
            "\u001b[1m200/200\u001b[0m \u001b[32m━━━━━━━━━━━━━━━━━━━━\u001b[0m\u001b[37m\u001b[0m \u001b[1m1s\u001b[0m 3ms/step - accuracy: 0.9860 - loss: 0.0350 - val_accuracy: 0.9862 - val_loss: 0.0315\n",
            "Epoch 19/20\n",
            "\u001b[1m200/200\u001b[0m \u001b[32m━━━━━━━━━━━━━━━━━━━━\u001b[0m\u001b[37m\u001b[0m \u001b[1m1s\u001b[0m 3ms/step - accuracy: 0.9870 - loss: 0.0315 - val_accuracy: 0.9856 - val_loss: 0.0340\n",
            "Epoch 20/20\n",
            "\u001b[1m200/200\u001b[0m \u001b[32m━━━━━━━━━━━━━━━━━━━━\u001b[0m\u001b[37m\u001b[0m \u001b[1m1s\u001b[0m 3ms/step - accuracy: 0.9834 - loss: 0.0368 - val_accuracy: 0.9850 - val_loss: 0.0337\n"
          ]
        },
        {
          "output_type": "stream",
          "name": "stderr",
          "text": [
            "WARNING:absl:You are saving your model as an HDF5 file via `model.save()` or `keras.saving.save_model(model)`. This file format is considered legacy. We recommend using instead the native Keras format, e.g. `model.save('my_model.keras')` or `keras.saving.save_model(model, 'my_model.keras')`. \n"
          ]
        }
      ]
    },
    {
      "cell_type": "markdown",
      "source": [
        "##Training Model Regresi"
      ],
      "metadata": {
        "id": "AbLUZCKoTR3v"
      }
    },
    {
      "cell_type": "code",
      "source": [
        "reg_model = build_regression_model(best_hps_reg)\n",
        "reg_model.compile(optimizer='adam', loss='mean_squared_error', metrics=['mae'])\n",
        "reg_model.fit(X_train_processed, y_train_reg, epochs=20, validation_split=0.2)\n",
        "reg_model.save(\"model_regresi.h5\")\n",
        "reg_model.save(\"model_regresi.keras\")"
      ],
      "metadata": {
        "colab": {
          "base_uri": "https://localhost:8080/"
        },
        "id": "DvAoHzzjTKmS",
        "outputId": "1e2c5825-ebc2-40d3-e495-ff31d7eca88c"
      },
      "execution_count": null,
      "outputs": [
        {
          "output_type": "stream",
          "name": "stdout",
          "text": [
            "Epoch 1/20\n",
            "\u001b[1m200/200\u001b[0m \u001b[32m━━━━━━━━━━━━━━━━━━━━\u001b[0m\u001b[37m\u001b[0m \u001b[1m3s\u001b[0m 6ms/step - loss: 392796905144320.0000 - mae: 18822190.0000 - val_loss: 386265098747904.0000 - val_mae: 18636560.0000\n",
            "Epoch 2/20\n",
            "\u001b[1m200/200\u001b[0m \u001b[32m━━━━━━━━━━━━━━━━━━━━\u001b[0m\u001b[37m\u001b[0m \u001b[1m1s\u001b[0m 5ms/step - loss: 392117327233024.0000 - mae: 18807130.0000 - val_loss: 385486937915392.0000 - val_mae: 18619316.0000\n",
            "Epoch 3/20\n",
            "\u001b[1m200/200\u001b[0m \u001b[32m━━━━━━━━━━━━━━━━━━━━\u001b[0m\u001b[37m\u001b[0m \u001b[1m1s\u001b[0m 4ms/step - loss: 393091412393984.0000 - mae: 18871790.0000 - val_loss: 383210034823168.0000 - val_mae: 18569558.0000\n",
            "Epoch 4/20\n",
            "\u001b[1m200/200\u001b[0m \u001b[32m━━━━━━━━━━━━━━━━━━━━\u001b[0m\u001b[37m\u001b[0m \u001b[1m1s\u001b[0m 5ms/step - loss: 387531342348288.0000 - mae: 18709298.0000 - val_loss: 378840778014720.0000 - val_mae: 18474290.0000\n",
            "Epoch 5/20\n",
            "\u001b[1m200/200\u001b[0m \u001b[32m━━━━━━━━━━━━━━━━━━━━\u001b[0m\u001b[37m\u001b[0m \u001b[1m1s\u001b[0m 3ms/step - loss: 382274201714688.0000 - mae: 18601906.0000 - val_loss: 371907157295104.0000 - val_mae: 18322302.0000\n",
            "Epoch 6/20\n",
            "\u001b[1m200/200\u001b[0m \u001b[32m━━━━━━━━━━━━━━━━━━━━\u001b[0m\u001b[37m\u001b[0m \u001b[1m1s\u001b[0m 3ms/step - loss: 379041601290240.0000 - mae: 18525296.0000 - val_loss: 362202108264448.0000 - val_mae: 18106966.0000\n",
            "Epoch 7/20\n",
            "\u001b[1m200/200\u001b[0m \u001b[32m━━━━━━━━━━━━━━━━━━━━\u001b[0m\u001b[37m\u001b[0m \u001b[1m1s\u001b[0m 3ms/step - loss: 360239039774720.0000 - mae: 18090090.0000 - val_loss: 349583360131072.0000 - val_mae: 17821744.0000\n",
            "Epoch 8/20\n",
            "\u001b[1m200/200\u001b[0m \u001b[32m━━━━━━━━━━━━━━━━━━━━\u001b[0m\u001b[37m\u001b[0m \u001b[1m1s\u001b[0m 3ms/step - loss: 346842030145536.0000 - mae: 17790428.0000 - val_loss: 334176641351680.0000 - val_mae: 17464554.0000\n",
            "Epoch 9/20\n",
            "\u001b[1m200/200\u001b[0m \u001b[32m━━━━━━━━━━━━━━━━━━━━\u001b[0m\u001b[37m\u001b[0m \u001b[1m1s\u001b[0m 3ms/step - loss: 331174157221888.0000 - mae: 17428180.0000 - val_loss: 316246092414976.0000 - val_mae: 17034968.0000\n",
            "Epoch 10/20\n",
            "\u001b[1m200/200\u001b[0m \u001b[32m━━━━━━━━━━━━━━━━━━━━\u001b[0m\u001b[37m\u001b[0m \u001b[1m1s\u001b[0m 3ms/step - loss: 311736611635200.0000 - mae: 16934054.0000 - val_loss: 296157725065216.0000 - val_mae: 16533524.0000\n",
            "Epoch 11/20\n",
            "\u001b[1m200/200\u001b[0m \u001b[32m━━━━━━━━━━━━━━━━━━━━\u001b[0m\u001b[37m\u001b[0m \u001b[1m1s\u001b[0m 3ms/step - loss: 292511029395456.0000 - mae: 16468075.0000 - val_loss: 274424016142336.0000 - val_mae: 15963553.0000\n",
            "Epoch 12/20\n",
            "\u001b[1m200/200\u001b[0m \u001b[32m━━━━━━━━━━━━━━━━━━━━\u001b[0m\u001b[37m\u001b[0m \u001b[1m1s\u001b[0m 3ms/step - loss: 270284607193088.0000 - mae: 15873039.0000 - val_loss: 251517646929920.0000 - val_mae: 15326316.0000\n",
            "Epoch 13/20\n",
            "\u001b[1m200/200\u001b[0m \u001b[32m━━━━━━━━━━━━━━━━━━━━\u001b[0m\u001b[37m\u001b[0m \u001b[1m1s\u001b[0m 3ms/step - loss: 248002904064000.0000 - mae: 15249538.0000 - val_loss: 228118262448128.0000 - val_mae: 14628666.0000\n",
            "Epoch 14/20\n",
            "\u001b[1m200/200\u001b[0m \u001b[32m━━━━━━━━━━━━━━━━━━━━\u001b[0m\u001b[37m\u001b[0m \u001b[1m1s\u001b[0m 3ms/step - loss: 223143666909184.0000 - mae: 14474444.0000 - val_loss: 204881046536192.0000 - val_mae: 13877411.0000\n",
            "Epoch 15/20\n",
            "\u001b[1m200/200\u001b[0m \u001b[32m━━━━━━━━━━━━━━━━━━━━\u001b[0m\u001b[37m\u001b[0m \u001b[1m1s\u001b[0m 3ms/step - loss: 200952275533824.0000 - mae: 13744505.0000 - val_loss: 182537099935744.0000 - val_mae: 13084817.0000\n",
            "Epoch 16/20\n",
            "\u001b[1m200/200\u001b[0m \u001b[32m━━━━━━━━━━━━━━━━━━━━\u001b[0m\u001b[37m\u001b[0m \u001b[1m1s\u001b[0m 3ms/step - loss: 178820627824640.0000 - mae: 12939855.0000 - val_loss: 161660589309952.0000 - val_mae: 12261311.0000\n",
            "Epoch 17/20\n",
            "\u001b[1m200/200\u001b[0m \u001b[32m━━━━━━━━━━━━━━━━━━━━\u001b[0m\u001b[37m\u001b[0m \u001b[1m1s\u001b[0m 3ms/step - loss: 158221142589440.0000 - mae: 12089459.0000 - val_loss: 142879485853696.0000 - val_mae: 11427722.0000\n",
            "Epoch 18/20\n",
            "\u001b[1m200/200\u001b[0m \u001b[32m━━━━━━━━━━━━━━━━━━━━\u001b[0m\u001b[37m\u001b[0m \u001b[1m2s\u001b[0m 4ms/step - loss: 138596128391168.0000 - mae: 11193240.0000 - val_loss: 126388740816896.0000 - val_mae: 10598106.0000\n",
            "Epoch 19/20\n",
            "\u001b[1m200/200\u001b[0m \u001b[32m━━━━━━━━━━━━━━━━━━━━\u001b[0m\u001b[37m\u001b[0m \u001b[1m1s\u001b[0m 3ms/step - loss: 123120362979328.0000 - mae: 10360480.0000 - val_loss: 112367585198080.0000 - val_mae: 9800191.0000\n",
            "Epoch 20/20\n",
            "\u001b[1m200/200\u001b[0m \u001b[32m━━━━━━━━━━━━━━━━━━━━\u001b[0m\u001b[37m\u001b[0m \u001b[1m1s\u001b[0m 3ms/step - loss: 112276627521536.0000 - mae: 9734048.0000 - val_loss: 100703997526016.0000 - val_mae: 9079599.0000\n"
          ]
        },
        {
          "output_type": "stream",
          "name": "stderr",
          "text": [
            "WARNING:absl:You are saving your model as an HDF5 file via `model.save()` or `keras.saving.save_model(model)`. This file format is considered legacy. We recommend using instead the native Keras format, e.g. `model.save('my_model.keras')` or `keras.saving.save_model(model, 'my_model.keras')`. \n"
          ]
        }
      ]
    },
    {
      "cell_type": "markdown",
      "source": [
        "##Evaluasi Model"
      ],
      "metadata": {
        "id": "sTAqHUHq8PJv"
      }
    },
    {
      "cell_type": "code",
      "source": [
        "loss_cls, accuracy_cls = tuned_classifier.evaluate(X_test_processed, y_test_class)\n",
        "print(f\"Akurasi pada data tes: {accuracy_cls:.2%}\")\n",
        "y_pred_proba = tuned_classifier.predict(X_test_processed)\n",
        "y_pred_class = np.argmax(y_pred_proba, axis=1)\n",
        "print(\"\\nLaporan Klasifikasi Model Terbaik:\")\n",
        "print(classification_report(y_test_class, y_pred_class, target_names=label_encoder.classes_))\n",
        "\n",
        "\n",
        "print(\"\\n\\n=== Evaluasi Model Regresi Setelah Fine-Tuning ===\")\n",
        "loss_reg, mae_reg = tuned_regressor.evaluate(X_test_processed, y_test_reg)\n",
        "print(f\"Mean Absolute Error (MAE) pada data tes: Rp {mae_reg:,.2f}\")"
      ],
      "metadata": {
        "colab": {
          "base_uri": "https://localhost:8080/"
        },
        "id": "Tb4ySdG3mrtK",
        "outputId": "b63a2bd3-45ed-40e9-f7b8-3bd0235a9c19"
      },
      "execution_count": null,
      "outputs": [
        {
          "output_type": "stream",
          "name": "stdout",
          "text": [
            "\u001b[1m63/63\u001b[0m \u001b[32m━━━━━━━━━━━━━━━━━━━━\u001b[0m\u001b[37m\u001b[0m \u001b[1m0s\u001b[0m 2ms/step - accuracy: 0.9837 - loss: 0.0344\n",
            "Akurasi pada data tes: 98.80%\n",
            "\u001b[1m63/63\u001b[0m \u001b[32m━━━━━━━━━━━━━━━━━━━━\u001b[0m\u001b[37m\u001b[0m \u001b[1m0s\u001b[0m 2ms/step\n",
            "\n",
            "Laporan Klasifikasi Model Terbaik:\n",
            "                                                                      precision    recall  f1-score   support\n",
            "\n",
            "Cobalah menggunakan transportasi umum seperti angkot, bus, atau KRL.       0.94      0.96      0.95       182\n",
            "              Kurangi langganan aplikasi jasa yang jarang digunakan.       1.00      1.00      1.00       925\n",
            "                 Kurangi makan di luar, coba masak sendiri di rumah.       0.98      0.97      0.97       271\n",
            "                  Sudah cukup hemat, pertahankan kebiasaan menabung.       0.99      0.99      0.99       622\n",
            "\n",
            "                                                            accuracy                           0.99      2000\n",
            "                                                           macro avg       0.98      0.98      0.98      2000\n",
            "                                                        weighted avg       0.99      0.99      0.99      2000\n",
            "\n",
            "\n",
            "\n",
            "=== Evaluasi Model Regresi Setelah Fine-Tuning ===\n",
            "\u001b[1m63/63\u001b[0m \u001b[32m━━━━━━━━━━━━━━━━━━━━\u001b[0m\u001b[37m\u001b[0m \u001b[1m0s\u001b[0m 2ms/step - loss: 890308.0625 - mae: 890308.0625\n",
            "Mean Absolute Error (MAE) pada data tes: Rp 931,068.44\n"
          ]
        }
      ]
    },
    {
      "cell_type": "markdown",
      "source": [
        "#Input Manual"
      ],
      "metadata": {
        "id": "kpk5PlNX8kYc"
      }
    },
    {
      "cell_type": "code",
      "source": [
        "valid_statuses = ['Businessman', 'Freelance', 'Full-time', 'Part-time', 'Contract', 'Student']\n",
        "\n",
        "print(\"\\n=== Masukkan Data Anda untuk Prediksi ===\")\n",
        "income = float(input(\"Pendapatan bulanan (contoh: 8000000): \"))\n",
        "fixed_expenses = float(input(\"Pengeluaran tetap (contoh: 3000000): \"))\n",
        "weekly_food = float(input(\"Pengeluaran makanan mingguan (contoh: 500000): \"))\n",
        "weekly_transport = float(input(\"Pengeluaran transport mingguan (contoh: 250000): \"))\n",
        "subscriptions = int(input(\"Jumlah layanan langganan (contoh: 2): \"))\n",
        "employment_status = input(f\"Status pekerjaan {valid_statuses}: \").strip()\n",
        "while employment_status not in valid_statuses:\n",
        "    print(\"❌ Status tidak valid.\")\n",
        "    employment_status = input(\"Masukkan ulang status pekerjaan: \").strip()\n",
        "age = int(input(\"Usia (contoh: 30): \"))\n",
        "last_month_spending = float(input(\"Pengeluaran bulan lalu (contoh: 6500000): \"))\n",
        "savings_last_month = float(input(\"Tabungan bulan lalu (contoh: 1500000): \"))"
      ],
      "metadata": {
        "colab": {
          "base_uri": "https://localhost:8080/"
        },
        "id": "nSLYVbSgmsCY",
        "outputId": "bbae12e2-5587-48cb-b080-fc55a3840e35"
      },
      "execution_count": null,
      "outputs": [
        {
          "name": "stdout",
          "output_type": "stream",
          "text": [
            "\n",
            "=== Masukkan Data Anda untuk Prediksi ===\n",
            "Pendapatan bulanan (contoh: 8000000): 10000000\n",
            "Pengeluaran tetap (contoh: 3000000): 5000000\n",
            "Pengeluaran makanan mingguan (contoh: 500000): 500000\n",
            "Pengeluaran transport mingguan (contoh: 250000): 50000\n",
            "Jumlah layanan langganan (contoh: 2): 4\n",
            "Status pekerjaan ['Businessman', 'Freelance', 'Full-time', 'Part-time', 'Contract', 'Student']: Full-time\n",
            "Usia (contoh: 30): 33\n",
            "Pengeluaran bulan lalu (contoh: 6500000): 7000000\n",
            "Tabungan bulan lalu (contoh: 1500000): 3000000\n"
          ]
        }
      ]
    },
    {
      "cell_type": "markdown",
      "source": [
        "#Dataframe Input"
      ],
      "metadata": {
        "id": "3J4R_78uBv79"
      }
    },
    {
      "cell_type": "code",
      "source": [
        "user_input_data = pd.DataFrame([{\n",
        "    \"income\": income,\n",
        "    \"fixed_expenses\": fixed_expenses,\n",
        "    \"weekly_food_spending\": weekly_food,\n",
        "    \"weekly_transport_spending\": weekly_transport,\n",
        "    \"subscription_services_count\": subscriptions,\n",
        "    \"employment_status\": employment_status,\n",
        "    \"age\": age,\n",
        "    \"last_month_spending\": last_month_spending,\n",
        "    \"savings_last_month\": savings_last_month\n",
        "}])"
      ],
      "metadata": {
        "id": "f5BYviTNB4xl"
      },
      "execution_count": null,
      "outputs": []
    },
    {
      "cell_type": "markdown",
      "source": [
        "#Inference"
      ],
      "metadata": {
        "id": "5Czo_zhiCgZf"
      }
    },
    {
      "cell_type": "code",
      "source": [
        "user_input_processed = preprocessor.transform(user_input_data)\n",
        "suggestion_prediction_proba = tuned_classifier.predict(user_input_processed)\n",
        "suggestion_prediction_index = np.argmax(suggestion_prediction_proba, axis=1)[0]\n",
        "suggestion = label_encoder.inverse_transform([suggestion_prediction_index])[0]\n",
        "\n",
        "spending_prediction = tuned_regressor.predict(user_input_processed)[0][0]"
      ],
      "metadata": {
        "id": "QK63ARa9CiQq",
        "colab": {
          "base_uri": "https://localhost:8080/"
        },
        "outputId": "dde6e0c7-cb76-40c2-e93d-37039fe76d75"
      },
      "execution_count": null,
      "outputs": [
        {
          "output_type": "stream",
          "name": "stdout",
          "text": [
            "\u001b[1m1/1\u001b[0m \u001b[32m━━━━━━━━━━━━━━━━━━━━\u001b[0m\u001b[37m\u001b[0m \u001b[1m0s\u001b[0m 48ms/step\n",
            "\u001b[1m1/1\u001b[0m \u001b[32m━━━━━━━━━━━━━━━━━━━━\u001b[0m\u001b[37m\u001b[0m \u001b[1m0s\u001b[0m 82ms/step\n"
          ]
        }
      ]
    },
    {
      "cell_type": "markdown",
      "source": [
        "#Output"
      ],
      "metadata": {
        "id": "gRzhScezCih4"
      }
    },
    {
      "cell_type": "code",
      "source": [
        "print(\"\\n📊 HASIL PREDIKSI\")\n",
        "print(f\"💰 Prediksi Pengeluaran Bulan Depan: Rp {spending_prediction:,.0f}\")\n",
        "print(f\"💡 Saran Penghematan: {suggestion}\")"
      ],
      "metadata": {
        "colab": {
          "base_uri": "https://localhost:8080/"
        },
        "id": "RvsqNvC5Cj6q",
        "outputId": "59b53c00-c27c-45e0-f5ef-352be1b0f917"
      },
      "execution_count": null,
      "outputs": [
        {
          "output_type": "stream",
          "name": "stdout",
          "text": [
            "\n",
            "📊 HASIL PREDIKSI\n",
            "💰 Prediksi Pengeluaran Bulan Depan: Rp 8,379,976\n",
            "💡 Saran Penghematan: Sudah cukup hemat, pertahankan kebiasaan menabung.\n"
          ]
        }
      ]
    }
  ]
}
